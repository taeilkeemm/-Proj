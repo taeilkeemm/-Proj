{
  "cells": [
    {
      "cell_type": "code",
      "execution_count": 89,
      "metadata": {
        "id": "xJ2iAY_JKNRB"
      },
      "outputs": [],
      "source": [
        "##데이터 전처리 및 시각화 라이브러리 불러오기\n",
        "import pandas as pd\n",
        "import numpy as np\n",
        "import matplotlib.pyplot as plt\n",
        "import os\n",
        "import matplotlib.font_manager as fm"
      ]
    },
    {
      "cell_type": "code",
      "execution_count": 90,
      "metadata": {
        "colab": {
          "base_uri": "https://localhost:8080/"
        },
        "id": "wGgBv2utTl5b",
        "outputId": "45eba7e2-c2c1-4c8b-b4d5-042a53cee648"
      },
      "outputs": [
        {
          "name": "stderr",
          "output_type": "stream",
          "text": [
            "C:\\Users\\theil\\AppData\\Local\\Programs\\Python\\Python39\\lib\\site-packages\\IPython\\core\\interactiveshell.py:3444: DtypeWarning: Columns (14) have mixed types.Specify dtype option on import or set low_memory=False.\n",
            "  exec(code_obj, self.user_global_ns, self.user_ns)\n"
          ]
        }
      ],
      "source": [
        "##종합 쇼핑몰 납품 요구 내역 월별 데이터 불러오기 (2021년)\n",
        "df21_1 = pd.read_csv(\"C:/Users/theil/Desktop/a/21_1월.csv\")\n",
        "df21_2 = pd.read_csv(\"C:/Users/theil/Desktop/a/21_2월.csv\")\n",
        "df21_3 = pd.read_csv(\"C:/Users/theil/Desktop/a/21_3월.csv\")\n",
        "df21_4 = pd.read_csv(\"C:/Users/theil/Desktop/a/21_4월.csv\")\n",
        "df21_5 = pd.read_csv(\"C:/Users/theil/Desktop/a/21_5월.csv\")\n",
        "df21_6 = pd.read_csv(\"C:/Users/theil/Desktop/a/21_6월.csv\")\n",
        "df21_7 = pd.read_csv(\"C:/Users/theil/Desktop/a/21_7월.csv\")\n",
        "df21_8 = pd.read_csv(\"C:/Users/theil/Desktop/a/21_8월.csv\")\n",
        "df21_9 = pd.read_csv(\"C:/Users/theil/Desktop/a/21_9월.csv\")\n",
        "df21_10 = pd.read_csv(\"C:/Users/theil/Desktop/a/21_10월.csv\")\n",
        "df21_11 = pd.read_csv(\"C:/Users/theil/Desktop/a/21_11월.csv\")\n",
        "df21_12 = pd.read_csv(\"C:/Users/theil/Desktop/a/21_12월.csv\")\n",
        "df21_ = pd.concat([df21_1, df21_2, df21_3, df21_4, df21_5, df21_6, df21_7, df21_8, df21_9, df21_10, df21_11, df21_12])\n",
        "df21_.to_csv(\"C:/Users/theil/Desktop/a/21년.csv\")"
      ]
    },
    {
      "cell_type": "code",
      "execution_count": null,
      "metadata": {
        "colab": {
          "base_uri": "https://localhost:8080/",
          "height": 308
        },
        "id": "eLSwghRC0hNy",
        "outputId": "ac5cdaa6-1dd3-4b81-a287-7b466b658445"
      },
      "outputs": [],
      "source": [
        "##종합 쇼핑몰 납품 요구 내역 월별 데이터 불러오기 (2020년)\n",
        "df20_1 = pd.read_csv(\"C:/Users/theil/Desktop/a/20_1월.csv\")\n",
        "df20_2 = pd.read_csv(\"C:/Users/theil/Desktop/a/20_2월.csv\")\n",
        "df20_3 = pd.read_csv(\"C:/Users/theil/Desktop/a/20_3월.csv\")\n",
        "df20_4 = pd.read_csv(\"C:/Users/theil/Desktop/a/20_4월.csv\")\n",
        "df20_5 = pd.read_csv(\"C:/Users/theil/Desktop/a/20_5월.csv\")\n",
        "df20_6 = pd.read_csv(\"C:/Users/theil/Desktop/a/20_6월.csv\")\n",
        "df20_7 = pd.read_csv(\"C:/Users/theil/Desktop/a/20_7월.csv\")\n",
        "df20_8 = pd.read_csv(\"C:/Users/theil/Desktop/a/20_8월.csv\")\n",
        "df20_9 = pd.read_csv(\"C:/Users/theil/Desktop/a/20_9월.csv\")\n",
        "df20_10 = pd.read_csv(\"C:/Users/theil/Desktop/a/20_10월.csv\")\n",
        "df20_11 = pd.read_csv(\"C:/Users/theil/Desktop/a/20_11월.csv\")\n",
        "df20_12 = pd.read_csv(\"C:/Users/theil/Desktop/a/20_12월.csv\")\n",
        "df20_ = pd.concat([df20_1, df20_2, df20_3, df20_4, df20_5, df20_6, df20_7, df20_8, df20_9, df20_10, df20_11, df20_12])\n",
        "df20_.to_csv(\"C:/Users/theil/Desktop/a/20년.csv\")"
      ]
    },
    {
      "cell_type": "code",
      "execution_count": null,
      "metadata": {
        "colab": {
          "base_uri": "https://localhost:8080/",
          "height": 308
        },
        "id": "yf6_yAev0jnR",
        "outputId": "f7cd4dfe-3c44-4f92-9344-0dc61815950e"
      },
      "outputs": [],
      "source": [
        "##종합 쇼핑몰 납품 요구 내역 월별 데이터 불러오기 (2019년)\n",
        "df19_1 = pd.read_csv(\"C:/Users/theil/Desktop/a/19_1월.csv\")\n",
        "df19_2 = pd.read_csv(\"C:/Users/theil/Desktop/a/19_2월.csv\")\n",
        "df19_3 = pd.read_csv(\"C:/Users/theil/Desktop/a/19_3월.csv\")\n",
        "df19_4 = pd.read_csv(\"C:/Users/theil/Desktop/a/19_4월.csv\")\n",
        "df19_5 = pd.read_csv(\"C:/Users/theil/Desktop/a/19_5월.csv\")\n",
        "df19_6 = pd.read_csv(\"C:/Users/theil/Desktop/a/19_6월.csv\")\n",
        "df19_7 = pd.read_csv(\"C:/Users/theil/Desktop/a/19_7월.csv\")\n",
        "df19_8 = pd.read_csv(\"C:/Users/theil/Desktop/a/19_8월.csv\")\n",
        "df19_9 = pd.read_csv(\"C:/Users/theil/Desktop/a/19_9월.csv\")\n",
        "df19_10 = pd.read_csv(\"C:/Users/theil/Desktop/a/19_10월.csv\")\n",
        "df19_11 = pd.read_csv(\"C:/Users/theil/Desktop/a/19_11월.csv\")\n",
        "df19_12 = pd.read_csv(\"C:/Users/theil/Desktop/a/19_12월.csv\")\n",
        "df19_ = pd.concat([df19_1, df19_2, df19_3, df19_4, df19_5, df19_6, df19_7, df19_8, df19_9, df19_10, df19_11, df19_12])\n",
        "df19_.to_csv(\"C:/Users/theil/Desktop/a/19년.csv\")"
      ]
    },
    {
      "cell_type": "code",
      "execution_count": null,
      "metadata": {
        "colab": {
          "base_uri": "https://localhost:8080/",
          "height": 308
        },
        "id": "JSKpVk9S0jeS",
        "outputId": "ce701081-23a0-47c6-c807-5c02f97c7329"
      },
      "outputs": [],
      "source": [
        "##종합 쇼핑몰 납품 요구 내역 월별 데이터 불러오기 (2018년)\n",
        "df18_1 = pd.read_csv(\"C:/Users/theil/Desktop/a/18_1월.csv\")\n",
        "df18_2 = pd.read_csv(\"C:/Users/theil/Desktop/a/18_2월.csv\")\n",
        "df18_3 = pd.read_csv(\"C:/Users/theil/Desktop/a/18_3월.csv\")\n",
        "df18_4 = pd.read_csv(\"C:/Users/theil/Desktop/a/18_4월.csv\")\n",
        "df18_5 = pd.read_csv(\"C:/Users/theil/Desktop/a/18_5월.csv\")\n",
        "df18_6 = pd.read_csv(\"C:/Users/theil/Desktop/a/18_6월.csv\")\n",
        "df18_7 = pd.read_csv(\"C:/Users/theil/Desktop/a/18_7월.csv\")\n",
        "df18_8 = pd.read_csv(\"C:/Users/theil/Desktop/a/18_8월.csv\")\n",
        "df18_9 = pd.read_csv(\"C:/Users/theil/Desktop/a/18_9월.csv\")\n",
        "df18_10 = pd.read_csv(\"C:/Users/theil/Desktop/a/18_10월.csv\")\n",
        "df18_11 = pd.read_csv(\"C:/Users/theil/Desktop/a/18_11월.csv\")\n",
        "df18_12 = pd.read_csv(\"C:/Users/theil/Desktop/a/18_12월.csv\")\n",
        "df18_ = pd.concat([df18_1, df18_2, df18_3, df18_4, df18_5, df18_6, df18_7, df18_8, df18_9, df18_10, df18_11, df18_12])\n",
        "df18_.to_csv(\"C:/Users/theil/Desktop/a/18년.csv\")"
      ]
    },
    {
      "cell_type": "code",
      "execution_count": null,
      "metadata": {
        "colab": {
          "base_uri": "https://localhost:8080/",
          "height": 308
        },
        "id": "Si0mI2-V0jD8",
        "outputId": "ccfbd195-ca6b-436e-9db2-f235cb7d07f2"
      },
      "outputs": [],
      "source": [
        "##종합 쇼핑몰 납품 요구 내역 월별 데이터 불러오기 (2017년)\n",
        "df17_1 = pd.read_csv(\"C:/Users/theil/Desktop/a/17_1월.csv\")\n",
        "df17_2 = pd.read_csv(\"C:/Users/theil/Desktop/a/17_2월.csv\")\n",
        "df17_3 = pd.read_csv(\"C:/Users/theil/Desktop/a/17_3월.csv\")\n",
        "df17_4 = pd.read_csv(\"C:/Users/theil/Desktop/a/17_4월.csv\")\n",
        "df17_5 = pd.read_csv(\"C:/Users/theil/Desktop/a/17_5월.csv\")\n",
        "df17_6 = pd.read_csv(\"C:/Users/theil/Desktop/a/17_6월.csv\")\n",
        "df17_7 = pd.read_csv(\"C:/Users/theil/Desktop/a/17_7월.csv\")\n",
        "df17_8 = pd.read_csv(\"C:/Users/theil/Desktop/a/17_8월.csv\")\n",
        "df17_9 = pd.read_csv(\"C:/Users/theil/Desktop/a/17_9월.csv\")\n",
        "df17_10 = pd.read_csv(\"C:/Users/theil/Desktop/a/17_10월.csv\")\n",
        "df17_11 = pd.read_csv(\"C:/Users/theil/Desktop/a/17_11월.csv\")\n",
        "df17_12 = pd.read_csv(\"C:/Users/theil/Desktop/a/17_12월.csv\")\n",
        "df17_ = pd.concat([df17_1, df17_2, df17_3, df17_4, df17_5, df17_6, df17_7, df17_8, df17_9, df17_10, df17_11, df17_12])\n",
        "df17_.to_csv(\"C:/Users/theil/Desktop/a/17년.csv\")"
      ]
    },
    {
      "cell_type": "code",
      "execution_count": null,
      "metadata": {
        "id": "rhcNfMf_T7U8"
      },
      "outputs": [
        {
          "name": "stderr",
          "output_type": "stream",
          "text": [
            "C:\\Users\\theil\\AppData\\Local\\Programs\\Python\\Python39\\lib\\site-packages\\IPython\\core\\interactiveshell.py:3444: DtypeWarning: Columns (15) have mixed types.Specify dtype option on import or set low_memory=False.\n",
            "  exec(code_obj, self.user_global_ns, self.user_ns)\n"
          ]
        }
      ],
      "source": [
        "##종합 쇼핑몰 납품 요구 내역 2017년 ~ 2021년 데이터 통합 및 저장\n",
        "\n",
        "df17_ = pd.read_csv(\"C:/Users/theil/Desktop/a/17년.csv\")\n",
        "df18_ = pd.read_csv(\"C:/Users/theil/Desktop/a/18년.csv\")\n",
        "df19_ = pd.read_csv(\"C:/Users/theil/Desktop/a/19년.csv\")\n",
        "df20_ = pd.read_csv(\"C:/Users/theil/Desktop/a/20년.csv\")\n",
        "df21_ = pd.read_csv(\"C:/Users/theil/Desktop/a/21년.csv\")\n",
        "\n",
        "df_all = pd.concat([df17_, df18_, df19_, df20_, df21_])\n",
        "\n",
        "df_all.to_csv(\"C:/Users/theil/Desktop/a/종합.csv\")\n",
        "\n"
      ]
    },
    {
      "cell_type": "code",
      "execution_count": null,
      "metadata": {
        "colab": {
          "base_uri": "https://localhost:8080/"
        },
        "id": "x54IitlUV62n",
        "outputId": "7211cb2b-3715-4dea-e0ce-b5170686a3d0"
      },
      "outputs": [
        {
          "name": "stderr",
          "output_type": "stream",
          "text": [
            "C:\\Users\\theil\\AppData\\Local\\Programs\\Python\\Python39\\lib\\site-packages\\IPython\\core\\interactiveshell.py:3444: DtypeWarning: Columns (16) have mixed types.Specify dtype option on import or set low_memory=False.\n",
            "  exec(code_obj, self.user_global_ns, self.user_ns)\n"
          ]
        }
      ],
      "source": [
        "##종합 쇼핑몰 2021년 데이터 불러오기\n",
        "df_origin = pd.read_csv(\"C:/Users/theil/Desktop/a/종합.csv\", parse_dates = ['납품요구접수일자'])\n",
        "df_origin.set_index(df_origin['납품요구접수일자'], inplace=True)"
      ]
    },
    {
      "cell_type": "code",
      "execution_count": null,
      "metadata": {
        "colab": {
          "base_uri": "https://localhost:8080/"
        },
        "id": "1dzjUJyXNFMW",
        "outputId": "eab1f590-6319-495f-e684-1fcd16579ed8"
      },
      "outputs": [
        {
          "data": {
            "text/plain": [
              "Index(['Unnamed: 0', 'Unnamed: 0.1', '납품요구번호', '납품요구변경차수', '수요기관명', '납품요구접수일자',\n",
              "       '납품요구건명', '업체명', '대표물품분류번호', '대표품명', '대표세부물품분류번호', '대표세부품명', '증감납품요구수량',\n",
              "       '증감납품요구금액', '최대납품기한', '계약구분', '계약번호', '계약변경차수', '다수공급자계약여부', '우수제품여부',\n",
              "       '최종납품요구여부', '최초납품요구접수일자', '최초납품요구금액', '수요기관코드', '수요기관구분', '수요기관지역명',\n",
              "       '업체사업자등록번호', '업체기업구분명', '납품요구지청명'],\n",
              "      dtype='object')"
            ]
          },
          "execution_count": 50,
          "metadata": {},
          "output_type": "execute_result"
        }
      ],
      "source": [
        "##칼럼명 확인\n",
        "df_origin.columns"
      ]
    },
    {
      "cell_type": "code",
      "execution_count": null,
      "metadata": {
        "colab": {
          "base_uri": "https://localhost:8080/",
          "height": 1000
        },
        "id": "t0JdMrfCBiLt",
        "outputId": "a8fa56d0-2cd0-4f3f-81ac-1dd3a0cdc460"
      },
      "outputs": [
        {
          "data": {
            "text/html": [
              "<div>\n",
              "<style scoped>\n",
              "    .dataframe tbody tr th:only-of-type {\n",
              "        vertical-align: middle;\n",
              "    }\n",
              "\n",
              "    .dataframe tbody tr th {\n",
              "        vertical-align: top;\n",
              "    }\n",
              "\n",
              "    .dataframe thead th {\n",
              "        text-align: right;\n",
              "    }\n",
              "</style>\n",
              "<table border=\"1\" class=\"dataframe\">\n",
              "  <thead>\n",
              "    <tr style=\"text-align: right;\">\n",
              "      <th></th>\n",
              "      <th>Unnamed: 0</th>\n",
              "      <th>Unnamed: 0.1</th>\n",
              "      <th>납품요구번호</th>\n",
              "      <th>납품요구변경차수</th>\n",
              "      <th>수요기관명</th>\n",
              "      <th>납품요구접수일자</th>\n",
              "      <th>납품요구건명</th>\n",
              "      <th>업체명</th>\n",
              "      <th>대표물품분류번호</th>\n",
              "      <th>대표품명</th>\n",
              "      <th>...</th>\n",
              "      <th>우수제품여부</th>\n",
              "      <th>최종납품요구여부</th>\n",
              "      <th>최초납품요구접수일자</th>\n",
              "      <th>최초납품요구금액</th>\n",
              "      <th>수요기관코드</th>\n",
              "      <th>수요기관구분</th>\n",
              "      <th>수요기관지역명</th>\n",
              "      <th>업체사업자등록번호</th>\n",
              "      <th>업체기업구분명</th>\n",
              "      <th>납품요구지청명</th>\n",
              "    </tr>\n",
              "    <tr>\n",
              "      <th>납품요구접수일자</th>\n",
              "      <th></th>\n",
              "      <th></th>\n",
              "      <th></th>\n",
              "      <th></th>\n",
              "      <th></th>\n",
              "      <th></th>\n",
              "      <th></th>\n",
              "      <th></th>\n",
              "      <th></th>\n",
              "      <th></th>\n",
              "      <th></th>\n",
              "      <th></th>\n",
              "      <th></th>\n",
              "      <th></th>\n",
              "      <th></th>\n",
              "      <th></th>\n",
              "      <th></th>\n",
              "      <th></th>\n",
              "      <th></th>\n",
              "      <th></th>\n",
              "      <th></th>\n",
              "    </tr>\n",
              "  </thead>\n",
              "  <tbody>\n",
              "    <tr>\n",
              "      <th>2017-01-04</th>\n",
              "      <td>0</td>\n",
              "      <td>0</td>\n",
              "      <td>3517300105</td>\n",
              "      <td>1</td>\n",
              "      <td>전라북도교육청 남성여자고등학교</td>\n",
              "      <td>2017-01-04</td>\n",
              "      <td>이리남성여자고등학교 과학실 프로젝터 구입</td>\n",
              "      <td>유환아이텍 주식회사</td>\n",
              "      <td>45111616</td>\n",
              "      <td>비디오프로젝터</td>\n",
              "      <td>...</td>\n",
              "      <td>N</td>\n",
              "      <td>Y</td>\n",
              "      <td>20170103</td>\n",
              "      <td>2970000</td>\n",
              "      <td>8320296</td>\n",
              "      <td>기타기관</td>\n",
              "      <td>전라북도 익산시</td>\n",
              "      <td>2208727579</td>\n",
              "      <td>중소기업</td>\n",
              "      <td>전북지방조달청</td>\n",
              "    </tr>\n",
              "    <tr>\n",
              "      <th>2017-01-10</th>\n",
              "      <td>1</td>\n",
              "      <td>1</td>\n",
              "      <td>2517301853</td>\n",
              "      <td>0</td>\n",
              "      <td>순천향대학교</td>\n",
              "      <td>2017-01-10</td>\n",
              "      <td>PRIME사업 컴퓨터실 3209실 기자재 구입</td>\n",
              "      <td>유환아이텍 주식회사</td>\n",
              "      <td>45111616</td>\n",
              "      <td>비디오프로젝터</td>\n",
              "      <td>...</td>\n",
              "      <td>N</td>\n",
              "      <td>N</td>\n",
              "      <td>20170110</td>\n",
              "      <td>11220000</td>\n",
              "      <td>7001936</td>\n",
              "      <td>기타기관</td>\n",
              "      <td>충청남도 아산시</td>\n",
              "      <td>2208727579</td>\n",
              "      <td>중소기업</td>\n",
              "      <td>대전지방조달청</td>\n",
              "    </tr>\n",
              "    <tr>\n",
              "      <th>2017-01-17</th>\n",
              "      <td>2</td>\n",
              "      <td>2</td>\n",
              "      <td>2217305342</td>\n",
              "      <td>0</td>\n",
              "      <td>인천광역시교육청 계양고등학교</td>\n",
              "      <td>2017-01-17</td>\n",
              "      <td>과학중점 환경개선 사업 물품</td>\n",
              "      <td>유환아이텍 주식회사</td>\n",
              "      <td>45111616</td>\n",
              "      <td>비디오프로젝터</td>\n",
              "      <td>...</td>\n",
              "      <td>N</td>\n",
              "      <td>Y</td>\n",
              "      <td>20170117</td>\n",
              "      <td>9570000</td>\n",
              "      <td>7310039</td>\n",
              "      <td>교육기관</td>\n",
              "      <td>인천광역시 계양구</td>\n",
              "      <td>2208727579</td>\n",
              "      <td>중소기업</td>\n",
              "      <td>인천지방조달청</td>\n",
              "    </tr>\n",
              "    <tr>\n",
              "      <th>2017-01-06</th>\n",
              "      <td>3</td>\n",
              "      <td>3</td>\n",
              "      <td>2417300956</td>\n",
              "      <td>0</td>\n",
              "      <td>광주광역시서부교육청 목련초등학교</td>\n",
              "      <td>2017-01-06</td>\n",
              "      <td>목련초 정보화기기  물품 구입</td>\n",
              "      <td>유환아이텍 주식회사</td>\n",
              "      <td>45111616</td>\n",
              "      <td>비디오프로젝터</td>\n",
              "      <td>...</td>\n",
              "      <td>N</td>\n",
              "      <td>Y</td>\n",
              "      <td>20170106</td>\n",
              "      <td>3190000</td>\n",
              "      <td>7400217</td>\n",
              "      <td>교육기관</td>\n",
              "      <td>광주광역시 광산구</td>\n",
              "      <td>2208727579</td>\n",
              "      <td>중소기업</td>\n",
              "      <td>광주지방조달청</td>\n",
              "    </tr>\n",
              "    <tr>\n",
              "      <th>2017-01-09</th>\n",
              "      <td>4</td>\n",
              "      <td>4</td>\n",
              "      <td>3517300656</td>\n",
              "      <td>0</td>\n",
              "      <td>전라북도교육청 서진여자고등학교</td>\n",
              "      <td>2017-01-09</td>\n",
              "      <td>급식기구(튀김솥 외) 구입</td>\n",
              "      <td>주식회사 신흥종합주방설비</td>\n",
              "      <td>48102096</td>\n",
              "      <td>상업용싱크대</td>\n",
              "      <td>...</td>\n",
              "      <td>N</td>\n",
              "      <td>Y</td>\n",
              "      <td>20170109</td>\n",
              "      <td>3370000</td>\n",
              "      <td>8320235</td>\n",
              "      <td>기타기관</td>\n",
              "      <td>전라북도 남원시</td>\n",
              "      <td>4028157464</td>\n",
              "      <td>중소기업</td>\n",
              "      <td>전북지방조달청</td>\n",
              "    </tr>\n",
              "    <tr>\n",
              "      <th>...</th>\n",
              "      <td>...</td>\n",
              "      <td>...</td>\n",
              "      <td>...</td>\n",
              "      <td>...</td>\n",
              "      <td>...</td>\n",
              "      <td>...</td>\n",
              "      <td>...</td>\n",
              "      <td>...</td>\n",
              "      <td>...</td>\n",
              "      <td>...</td>\n",
              "      <td>...</td>\n",
              "      <td>...</td>\n",
              "      <td>...</td>\n",
              "      <td>...</td>\n",
              "      <td>...</td>\n",
              "      <td>...</td>\n",
              "      <td>...</td>\n",
              "      <td>...</td>\n",
              "      <td>...</td>\n",
              "      <td>...</td>\n",
              "      <td>...</td>\n",
              "    </tr>\n",
              "    <tr>\n",
              "      <th>2021-12-31</th>\n",
              "      <td>1618450</td>\n",
              "      <td>195217</td>\n",
              "      <td>3921330560</td>\n",
              "      <td>0</td>\n",
              "      <td>제주특별자치도교육청 제주시교육청 백록초등학교</td>\n",
              "      <td>2021-12-31</td>\n",
              "      <td>원격 수업 환경 구축 관련 물품 구입(노트북 외 1종)</td>\n",
              "      <td>주식회사 엠텍정보</td>\n",
              "      <td>43211503</td>\n",
              "      <td>노트북컴퓨터</td>\n",
              "      <td>...</td>\n",
              "      <td>N</td>\n",
              "      <td>Y</td>\n",
              "      <td>20211231</td>\n",
              "      <td>8085000</td>\n",
              "      <td>9295172</td>\n",
              "      <td>교육기관</td>\n",
              "      <td>제주특별자치도 제주시</td>\n",
              "      <td>4108626915</td>\n",
              "      <td>중소기업</td>\n",
              "      <td>제주지방조달청</td>\n",
              "    </tr>\n",
              "    <tr>\n",
              "      <th>2021-12-31</th>\n",
              "      <td>1618451</td>\n",
              "      <td>195218</td>\n",
              "      <td>3921330575</td>\n",
              "      <td>0</td>\n",
              "      <td>제주특별자치도교육청 제주시교육지원청 한천초등학교</td>\n",
              "      <td>2021-12-31</td>\n",
              "      <td>본관지하층 공기순환기 구매</td>\n",
              "      <td>은성화학주식회사</td>\n",
              "      <td>72151299</td>\n",
              "      <td>냉난방공조공사</td>\n",
              "      <td>...</td>\n",
              "      <td>N</td>\n",
              "      <td>Y</td>\n",
              "      <td>20211231</td>\n",
              "      <td>20675320</td>\n",
              "      <td>9296046</td>\n",
              "      <td>교육기관</td>\n",
              "      <td>제주특별자치도 제주시</td>\n",
              "      <td>1248151857</td>\n",
              "      <td>중소기업</td>\n",
              "      <td>제주지방조달청</td>\n",
              "    </tr>\n",
              "    <tr>\n",
              "      <th>2021-12-31</th>\n",
              "      <td>1618452</td>\n",
              "      <td>195219</td>\n",
              "      <td>3921330582</td>\n",
              "      <td>0</td>\n",
              "      <td>제주특별자치도 상하수도본부</td>\n",
              "      <td>2021-12-31</td>\n",
              "      <td>조천처리분구 하수관로 정비사업(교래처리분구)전기및계측제어공사-현장제어반</td>\n",
              "      <td>주식회사 대은계전</td>\n",
              "      <td>39121189</td>\n",
              "      <td>계장제어장치</td>\n",
              "      <td>...</td>\n",
              "      <td>Y</td>\n",
              "      <td>Y</td>\n",
              "      <td>20211231</td>\n",
              "      <td>23040000</td>\n",
              "      <td>6500654</td>\n",
              "      <td>지자체</td>\n",
              "      <td>제주특별자치도 제주시</td>\n",
              "      <td>6168157632</td>\n",
              "      <td>중소기업</td>\n",
              "      <td>제주지방조달청</td>\n",
              "    </tr>\n",
              "    <tr>\n",
              "      <th>2021-12-31</th>\n",
              "      <td>1618453</td>\n",
              "      <td>195220</td>\n",
              "      <td>3921330583</td>\n",
              "      <td>0</td>\n",
              "      <td>제주대학교</td>\n",
              "      <td>2021-12-31</td>\n",
              "      <td>(혁신)첨단학과 데이터사이언스학과(전산통계) 통합실험실 구축 기자재 구</td>\n",
              "      <td>주식회사 랩241</td>\n",
              "      <td>60109399</td>\n",
              "      <td>멀티미디어학습시스템</td>\n",
              "      <td>...</td>\n",
              "      <td>N</td>\n",
              "      <td>Y</td>\n",
              "      <td>20211231</td>\n",
              "      <td>13200000</td>\n",
              "      <td>7000974</td>\n",
              "      <td>국가기관</td>\n",
              "      <td>제주특별자치도 제주시</td>\n",
              "      <td>1788600194</td>\n",
              "      <td>중소기업</td>\n",
              "      <td>제주지방조달청</td>\n",
              "    </tr>\n",
              "    <tr>\n",
              "      <th>2021-12-31</th>\n",
              "      <td>1618454</td>\n",
              "      <td>195221</td>\n",
              "      <td>3921330597</td>\n",
              "      <td>0</td>\n",
              "      <td>제주특별자치도교육청 제주시교육지원청 제주동여자중학교</td>\n",
              "      <td>2021-12-31</td>\n",
              "      <td>책상 외 2건 조달요청</td>\n",
              "      <td>주식회사 투템디자인</td>\n",
              "      <td>56101706</td>\n",
              "      <td>회의용탁자</td>\n",
              "      <td>...</td>\n",
              "      <td>N</td>\n",
              "      <td>Y</td>\n",
              "      <td>20211231</td>\n",
              "      <td>506000</td>\n",
              "      <td>9296014</td>\n",
              "      <td>교육기관</td>\n",
              "      <td>제주특별자치도 제주시</td>\n",
              "      <td>7478101112</td>\n",
              "      <td>중소기업</td>\n",
              "      <td>제주지방조달청</td>\n",
              "    </tr>\n",
              "  </tbody>\n",
              "</table>\n",
              "<p>7206521 rows × 29 columns</p>\n",
              "</div>"
            ],
            "text/plain": [
              "            Unnamed: 0  Unnamed: 0.1      납품요구번호  납품요구변경차수  \\\n",
              "납품요구접수일자                                                     \n",
              "2017-01-04           0             0  3517300105         1   \n",
              "2017-01-10           1             1  2517301853         0   \n",
              "2017-01-17           2             2  2217305342         0   \n",
              "2017-01-06           3             3  2417300956         0   \n",
              "2017-01-09           4             4  3517300656         0   \n",
              "...                ...           ...         ...       ...   \n",
              "2021-12-31     1618450        195217  3921330560         0   \n",
              "2021-12-31     1618451        195218  3921330575         0   \n",
              "2021-12-31     1618452        195219  3921330582         0   \n",
              "2021-12-31     1618453        195220  3921330583         0   \n",
              "2021-12-31     1618454        195221  3921330597         0   \n",
              "\n",
              "                                   수요기관명   납품요구접수일자  \\\n",
              "납품요구접수일자                                              \n",
              "2017-01-04              전라북도교육청 남성여자고등학교 2017-01-04   \n",
              "2017-01-10                        순천향대학교 2017-01-10   \n",
              "2017-01-17               인천광역시교육청 계양고등학교 2017-01-17   \n",
              "2017-01-06             광주광역시서부교육청 목련초등학교 2017-01-06   \n",
              "2017-01-09              전라북도교육청 서진여자고등학교 2017-01-09   \n",
              "...                                  ...        ...   \n",
              "2021-12-31      제주특별자치도교육청 제주시교육청 백록초등학교 2021-12-31   \n",
              "2021-12-31    제주특별자치도교육청 제주시교육지원청 한천초등학교 2021-12-31   \n",
              "2021-12-31                제주특별자치도 상하수도본부 2021-12-31   \n",
              "2021-12-31                         제주대학교 2021-12-31   \n",
              "2021-12-31  제주특별자치도교육청 제주시교육지원청 제주동여자중학교 2021-12-31   \n",
              "\n",
              "                                             납품요구건명            업체명  대표물품분류번호  \\\n",
              "납품요구접수일자                                                                       \n",
              "2017-01-04                   이리남성여자고등학교 과학실 프로젝터 구입     유환아이텍 주식회사  45111616   \n",
              "2017-01-10                PRIME사업 컴퓨터실 3209실 기자재 구입     유환아이텍 주식회사  45111616   \n",
              "2017-01-17                          과학중점 환경개선 사업 물품     유환아이텍 주식회사  45111616   \n",
              "2017-01-06                         목련초 정보화기기  물품 구입     유환아이텍 주식회사  45111616   \n",
              "2017-01-09                           급식기구(튀김솥 외) 구입  주식회사 신흥종합주방설비  48102096   \n",
              "...                                             ...            ...       ...   \n",
              "2021-12-31           원격 수업 환경 구축 관련 물품 구입(노트북 외 1종)      주식회사 엠텍정보  43211503   \n",
              "2021-12-31                           본관지하층 공기순환기 구매       은성화학주식회사  72151299   \n",
              "2021-12-31  조천처리분구 하수관로 정비사업(교래처리분구)전기및계측제어공사-현장제어반      주식회사 대은계전  39121189   \n",
              "2021-12-31  (혁신)첨단학과 데이터사이언스학과(전산통계) 통합실험실 구축 기자재 구      주식회사 랩241  60109399   \n",
              "2021-12-31                             책상 외 2건 조달요청     주식회사 투템디자인  56101706   \n",
              "\n",
              "                  대표품명  ...  우수제품여부 최종납품요구여부  최초납품요구접수일자  최초납품요구금액   수요기관코드  \\\n",
              "납품요구접수일자                ...                                                   \n",
              "2017-01-04     비디오프로젝터  ...       N        Y    20170103   2970000  8320296   \n",
              "2017-01-10     비디오프로젝터  ...       N        N    20170110  11220000  7001936   \n",
              "2017-01-17     비디오프로젝터  ...       N        Y    20170117   9570000  7310039   \n",
              "2017-01-06     비디오프로젝터  ...       N        Y    20170106   3190000  7400217   \n",
              "2017-01-09      상업용싱크대  ...       N        Y    20170109   3370000  8320235   \n",
              "...                ...  ...     ...      ...         ...       ...      ...   \n",
              "2021-12-31      노트북컴퓨터  ...       N        Y    20211231   8085000  9295172   \n",
              "2021-12-31     냉난방공조공사  ...       N        Y    20211231  20675320  9296046   \n",
              "2021-12-31      계장제어장치  ...       Y        Y    20211231  23040000  6500654   \n",
              "2021-12-31  멀티미디어학습시스템  ...       N        Y    20211231  13200000  7000974   \n",
              "2021-12-31       회의용탁자  ...       N        Y    20211231    506000  9296014   \n",
              "\n",
              "           수요기관구분      수요기관지역명   업체사업자등록번호 업체기업구분명  납품요구지청명  \n",
              "납품요구접수일자                                                     \n",
              "2017-01-04   기타기관     전라북도 익산시  2208727579    중소기업  전북지방조달청  \n",
              "2017-01-10   기타기관     충청남도 아산시  2208727579    중소기업  대전지방조달청  \n",
              "2017-01-17   교육기관    인천광역시 계양구  2208727579    중소기업  인천지방조달청  \n",
              "2017-01-06   교육기관    광주광역시 광산구  2208727579    중소기업  광주지방조달청  \n",
              "2017-01-09   기타기관     전라북도 남원시  4028157464    중소기업  전북지방조달청  \n",
              "...           ...          ...         ...     ...      ...  \n",
              "2021-12-31   교육기관  제주특별자치도 제주시  4108626915    중소기업  제주지방조달청  \n",
              "2021-12-31   교육기관  제주특별자치도 제주시  1248151857    중소기업  제주지방조달청  \n",
              "2021-12-31    지자체  제주특별자치도 제주시  6168157632    중소기업  제주지방조달청  \n",
              "2021-12-31   국가기관  제주특별자치도 제주시  1788600194    중소기업  제주지방조달청  \n",
              "2021-12-31   교육기관  제주특별자치도 제주시  7478101112    중소기업  제주지방조달청  \n",
              "\n",
              "[7206521 rows x 29 columns]"
            ]
          },
          "execution_count": 51,
          "metadata": {},
          "output_type": "execute_result"
        }
      ],
      "source": [
        "##원본 데이터 확인\n",
        "df_origin"
      ]
    },
    {
      "cell_type": "code",
      "execution_count": null,
      "metadata": {
        "id": "EaIXQt0WNGI9"
      },
      "outputs": [],
      "source": [
        "##원하는 칼럼만 추출\n",
        "df = df_origin[['대표세부품명', '증감납품요구수량']]"
      ]
    },
    {
      "cell_type": "code",
      "execution_count": null,
      "metadata": {
        "id": "32yxLUwtZHjH"
      },
      "outputs": [],
      "source": [
        "##증감납품수량 기준 2021년 상위 10개 품목 선정, 데이터프레임 복제\n",
        "df2 = df"
      ]
    },
    {
      "cell_type": "code",
      "execution_count": null,
      "metadata": {
        "id": "cpOtLqs_Nz4F"
      },
      "outputs": [],
      "source": [
        "##대표세부품명별 합계 확인\n",
        "df2 = df2.groupby(['대표세부품명']).sum()"
      ]
    },
    {
      "cell_type": "code",
      "execution_count": null,
      "metadata": {
        "id": "kYb6blsEPxQU"
      },
      "outputs": [],
      "source": [
        "##납품요구수량 기준 내림차순 정렬\n",
        "df2 = df2.sort_values('증감납품요구수량', ascending=False)"
      ]
    },
    {
      "cell_type": "code",
      "execution_count": null,
      "metadata": {
        "id": "VHBdNrenUD0U"
      },
      "outputs": [],
      "source": [
        "##랭킹 칼럼 추가, 인덱스로 지정\n",
        "df2['rank'] = df2['증감납품요구수량'].rank(method='max', ascending=False)\n",
        "df2 = df2.reset_index()\n",
        "df2 = df2.set_index(df2['rank'])\n",
        "df2 = df2.drop(['rank'], axis=1)"
      ]
    },
    {
      "cell_type": "code",
      "execution_count": null,
      "metadata": {
        "colab": {
          "base_uri": "https://localhost:8080/",
          "height": 394
        },
        "id": "ld2SGUnwQdO0",
        "outputId": "c82bc946-5e29-4170-9e96-4c9d16e939af"
      },
      "outputs": [
        {
          "data": {
            "text/html": [
              "<div>\n",
              "<style scoped>\n",
              "    .dataframe tbody tr th:only-of-type {\n",
              "        vertical-align: middle;\n",
              "    }\n",
              "\n",
              "    .dataframe tbody tr th {\n",
              "        vertical-align: top;\n",
              "    }\n",
              "\n",
              "    .dataframe thead th {\n",
              "        text-align: right;\n",
              "    }\n",
              "</style>\n",
              "<table border=\"1\" class=\"dataframe\">\n",
              "  <thead>\n",
              "    <tr style=\"text-align: right;\">\n",
              "      <th></th>\n",
              "      <th>대표세부품명</th>\n",
              "      <th>증감납품요구수량</th>\n",
              "    </tr>\n",
              "    <tr>\n",
              "      <th>rank</th>\n",
              "      <th></th>\n",
              "      <th></th>\n",
              "    </tr>\n",
              "  </thead>\n",
              "  <tbody>\n",
              "    <tr>\n",
              "      <th>1.0</th>\n",
              "      <td>쓰레기봉투</td>\n",
              "      <td>7.383770e+09</td>\n",
              "    </tr>\n",
              "    <tr>\n",
              "      <th>2.0</th>\n",
              "      <td>경유</td>\n",
              "      <td>2.916062e+09</td>\n",
              "    </tr>\n",
              "    <tr>\n",
              "      <th>3.0</th>\n",
              "      <td>보건용마스크(공적판매용)</td>\n",
              "      <td>1.058225e+09</td>\n",
              "    </tr>\n",
              "    <tr>\n",
              "      <th>4.0</th>\n",
              "      <td>콘크리트벽돌</td>\n",
              "      <td>8.709230e+08</td>\n",
              "    </tr>\n",
              "    <tr>\n",
              "      <th>5.0</th>\n",
              "      <td>라벨용지</td>\n",
              "      <td>4.628912e+08</td>\n",
              "    </tr>\n",
              "    <tr>\n",
              "      <th>6.0</th>\n",
              "      <td>보건용마스크</td>\n",
              "      <td>4.253823e+08</td>\n",
              "    </tr>\n",
              "    <tr>\n",
              "      <th>7.0</th>\n",
              "      <td>미장벽돌</td>\n",
              "      <td>2.747461e+08</td>\n",
              "    </tr>\n",
              "    <tr>\n",
              "      <th>8.0</th>\n",
              "      <td>기타화초</td>\n",
              "      <td>2.159804e+08</td>\n",
              "    </tr>\n",
              "    <tr>\n",
              "      <th>9.0</th>\n",
              "      <td>강관파일</td>\n",
              "      <td>1.658309e+08</td>\n",
              "    </tr>\n",
              "    <tr>\n",
              "      <th>10.0</th>\n",
              "      <td>음식물쓰레기처리통</td>\n",
              "      <td>1.603820e+08</td>\n",
              "    </tr>\n",
              "    <tr>\n",
              "      <th>11.0</th>\n",
              "      <td>레미콘</td>\n",
              "      <td>1.558444e+08</td>\n",
              "    </tr>\n",
              "    <tr>\n",
              "      <th>12.0</th>\n",
              "      <td>금속제창</td>\n",
              "      <td>1.320824e+08</td>\n",
              "    </tr>\n",
              "  </tbody>\n",
              "</table>\n",
              "</div>"
            ],
            "text/plain": [
              "             대표세부품명      증감납품요구수량\n",
              "rank                             \n",
              "1.0           쓰레기봉투  7.383770e+09\n",
              "2.0              경유  2.916062e+09\n",
              "3.0   보건용마스크(공적판매용)  1.058225e+09\n",
              "4.0          콘크리트벽돌  8.709230e+08\n",
              "5.0            라벨용지  4.628912e+08\n",
              "6.0          보건용마스크  4.253823e+08\n",
              "7.0            미장벽돌  2.747461e+08\n",
              "8.0            기타화초  2.159804e+08\n",
              "9.0            강관파일  1.658309e+08\n",
              "10.0      음식물쓰레기처리통  1.603820e+08\n",
              "11.0            레미콘  1.558444e+08\n",
              "12.0           금속제창  1.320824e+08"
            ]
          },
          "execution_count": 57,
          "metadata": {},
          "output_type": "execute_result"
        }
      ],
      "source": [
        "##증감납품요구수량 상위 10개 품목 확인\n",
        "df2[:12]"
      ]
    },
    {
      "cell_type": "code",
      "execution_count": null,
      "metadata": {
        "id": "aaIAEmZtSmGD"
      },
      "outputs": [],
      "source": [
        "##상위 12개품목 이름 저장\n",
        "product = []\n",
        "for i in range(12):\n",
        "  product.append(df2.iat[i,0])"
      ]
    },
    {
      "cell_type": "code",
      "execution_count": null,
      "metadata": {
        "id": "SfVevCgcX7Dk"
      },
      "outputs": [],
      "source": [
        "##상위 10개 품목별 데이터프레임 생성\n",
        "df_1 = df[df['대표세부품명'] == product[0]]\n",
        "df_2 = df[df['대표세부품명'] == product[1]]\n",
        "df_3 = df[df['대표세부품명'] == product[2]]\n",
        "df_4 = df[df['대표세부품명'] == product[3]]\n",
        "df_5 = df[df['대표세부품명'] == product[4]]\n",
        "df_6 = df[df['대표세부품명'] == product[5]]\n",
        "df_7 = df[df['대표세부품명'] == product[6]]\n",
        "df_8 = df[df['대표세부품명'] == product[7]]\n",
        "df_9 = df[df['대표세부품명'] == product[8]]\n",
        "df_10 = df[df['대표세부품명'] == product[9]]\n",
        "df_11 = df[df['대표세부품명'] == product[10]]\n",
        "df_12 = df[df['대표세부품명'] == product[11]]"
      ]
    },
    {
      "cell_type": "code",
      "execution_count": null,
      "metadata": {
        "id": "j9JuozV4YSg3"
      },
      "outputs": [],
      "source": [
        "##데이터 프레임 시간순서 정렬 (오래된 것 -> 최근 순)\n",
        "df_1 = df_1.sort_index()\n",
        "df_2 = df_2.sort_index()\n",
        "df_3 = df_3.sort_index()\n",
        "df_4 = df_4.sort_index()\n",
        "df_5 = df_5.sort_index()\n",
        "df_6 = df_6.sort_index()\n",
        "df_7 = df_7.sort_index()\n",
        "df_8 = df_8.sort_index()\n",
        "df_9 = df_9.sort_index()\n",
        "df_10 = df_10.sort_index()\n",
        "df_11 = df_11.sort_index()\n",
        "df_12 = df_12.sort_index()"
      ]
    },
    {
      "cell_type": "code",
      "execution_count": null,
      "metadata": {
        "id": "r7PTIs2FUEj4"
      },
      "outputs": [],
      "source": [
        "##날짜별 시게열 대이터 그룹화 1등 품목\n",
        "df_1 = df_1.drop(['대표세부품명'], axis=1)\n",
        "df_1 = df_1.reset_index()\n",
        "df_1 = df_1.groupby('납품요구접수일자').sum()"
      ]
    },
    {
      "cell_type": "code",
      "execution_count": null,
      "metadata": {
        "id": "EBV4aZJ9dzIc"
      },
      "outputs": [],
      "source": [
        "##날짜별 시게열 대이터 그룹화 2등 품목\n",
        "df_2 = df_2.drop(['대표세부품명'], axis=1)\n",
        "df_2 = df_2.reset_index()\n",
        "df_2 = df_2.groupby('납품요구접수일자').sum()"
      ]
    },
    {
      "cell_type": "code",
      "execution_count": null,
      "metadata": {
        "id": "koEPl2iFeGbk"
      },
      "outputs": [],
      "source": [
        "##날짜별 시게열 대이터 그룹화 3등 품목\n",
        "df_3 = df_3.drop(['대표세부품명'], axis=1)\n",
        "df_3 = df_3.reset_index()\n",
        "df_3 = df_3.groupby('납품요구접수일자').sum()"
      ]
    },
    {
      "cell_type": "code",
      "execution_count": null,
      "metadata": {
        "id": "upi5QMv3eM3k"
      },
      "outputs": [],
      "source": [
        "##날짜별 시게열 대이터 그룹화 4등 품목\n",
        "df_4 = df_4.drop(['대표세부품명'], axis=1)\n",
        "df_4 = df_4.reset_index()\n",
        "df_4 = df_4.groupby('납품요구접수일자').sum()"
      ]
    },
    {
      "cell_type": "code",
      "execution_count": null,
      "metadata": {
        "id": "eIedXfoCeUBl"
      },
      "outputs": [],
      "source": [
        "##날짜별 시게열 대이터 그룹화 5등 품목\n",
        "df_5 = df_5.drop(['대표세부품명'], axis=1)\n",
        "df_5 = df_5.reset_index()\n",
        "df_5 = df_5.groupby('납품요구접수일자').sum()"
      ]
    },
    {
      "cell_type": "code",
      "execution_count": null,
      "metadata": {
        "id": "KuVh0E5eeY3s"
      },
      "outputs": [],
      "source": [
        "##날짜별 시게열 대이터 그룹화 6등 품목\n",
        "df_6 = df_6.drop(['대표세부품명'], axis=1)\n",
        "df_6 = df_6.reset_index()\n",
        "df_6 = df_6.groupby('납품요구접수일자').sum()"
      ]
    },
    {
      "cell_type": "code",
      "execution_count": null,
      "metadata": {
        "id": "WXww1AKMedWE"
      },
      "outputs": [],
      "source": [
        "##날짜별 시게열 대이터 그룹화 7등 품목\n",
        "df_7 = df_7.drop(['대표세부품명'], axis=1)\n",
        "df_7 = df_7.reset_index()\n",
        "df_7 = df_7.groupby('납품요구접수일자').sum()"
      ]
    },
    {
      "cell_type": "code",
      "execution_count": null,
      "metadata": {
        "id": "wX16FKOxeiOl"
      },
      "outputs": [],
      "source": [
        "##날짜별 시게열 대이터 그룹화 8등 품목\n",
        "df_8 = df_8.drop(['대표세부품명'], axis=1)\n",
        "df_8 = df_8.reset_index()\n",
        "df_8 = df_8.groupby('납품요구접수일자').sum()"
      ]
    },
    {
      "cell_type": "code",
      "execution_count": null,
      "metadata": {
        "id": "UHIRUJXvemKV"
      },
      "outputs": [],
      "source": [
        "##날짜별 시게열 대이터 그룹화 9등 품목\n",
        "df_9 = df_9.drop(['대표세부품명'], axis=1)\n",
        "df_9 = df_9.reset_index()\n",
        "df_9 = df_9.groupby('납품요구접수일자').sum()"
      ]
    },
    {
      "cell_type": "code",
      "execution_count": null,
      "metadata": {
        "id": "_dn1BgXfeqKc"
      },
      "outputs": [],
      "source": [
        "##날짜별 시게열 대이터 그룹화 10등 품목\n",
        "df_10 = df_10.drop(['대표세부품명'], axis=1)\n",
        "df_10 = df_10.reset_index()\n",
        "df_10 = df_10.groupby('납품요구접수일자').sum()"
      ]
    },
    {
      "cell_type": "code",
      "execution_count": null,
      "metadata": {},
      "outputs": [],
      "source": [
        "##날짜별 시게열 대이터 그룹화 11등 품목\n",
        "df_11 = df_11.drop(['대표세부품명'], axis=1)\n",
        "df_11 = df_11.reset_index()\n",
        "df_11 = df_11.groupby('납품요구접수일자').sum()"
      ]
    },
    {
      "cell_type": "code",
      "execution_count": null,
      "metadata": {},
      "outputs": [],
      "source": [
        "##날짜별 시게열 대이터 그룹화 12등 품목\n",
        "df_12 = df_12.drop(['대표세부품명'], axis=1)\n",
        "df_12 = df_12.reset_index()\n",
        "df_12 = df_12.groupby('납품요구접수일자').sum()"
      ]
    },
    {
      "cell_type": "code",
      "execution_count": null,
      "metadata": {
        "id": "KAUpOfZ-ev9r"
      },
      "outputs": [],
      "source": [
        "##전처리 완료 데이터 내보내기\n",
        "df_1.to_csv(\"C:/Users/theil/Desktop/a/1등_쓰레기봉투.csv\")\n",
        "df_2.to_csv(\"C:/Users/theil/Desktop/a/2등_경유.csv\")\n",
        "df_3.to_csv(\"C:/Users/theil/Desktop/a/3등_보건용마스크(공적판매용).csv\")\n",
        "df_4.to_csv(\"C:/Users/theil/Desktop/a/4등_콘크리트벽돌.csv\")\n",
        "df_5.to_csv(\"C:/Users/theil/Desktop/a/5등_라벨용지.csv\")\n",
        "df_6.to_csv(\"C:/Users/theil/Desktop/a/6등_보건용마스크.csv\")\n",
        "df_7.to_csv(\"C:/Users/theil/Desktop/a/7등_미장벽돌.csv\")\n",
        "df_8.to_csv(\"C:/Users/theil/Desktop/a/8등_기타화초.csv\")\n",
        "df_9.to_csv(\"C:/Users/theil/Desktop/a/9등_강관파일.csv\")\n",
        "df_10.to_csv(\"C:/Users/theil/Desktop/a/10등_음식물쓰레기처리통.csv\")\n",
        "df_11.to_csv(\"C:/Users/theil/Desktop/a/11등_레미콘.csv\")\n",
        "df_12.to_csv(\"C:/Users/theil/Desktop/a/12등_금속제창.csv\")"
      ]
    }
  ],
  "metadata": {
    "colab": {
      "collapsed_sections": [],
      "name": "공공조달 전처리 (220205).ipynb",
      "provenance": []
    },
    "kernelspec": {
      "display_name": "Python 3",
      "name": "python3"
    },
    "language_info": {
      "codemirror_mode": {
        "name": "ipython",
        "version": 3
      },
      "file_extension": ".py",
      "mimetype": "text/x-python",
      "name": "python",
      "nbconvert_exporter": "python",
      "pygments_lexer": "ipython3",
      "version": "3.9.7"
    }
  },
  "nbformat": 4,
  "nbformat_minor": 0
}
